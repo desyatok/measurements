{
 "cells": [
  {
   "cell_type": "markdown",
   "id": "dd6f2328",
   "metadata": {},
   "source": [
    "### Тестовый стенд\n",
    "* **CPU:** AMD® Ryzen 7 5800h with radeon graphics × 16 @ 4.46GHz\n",
    "\n",
    "* **RAM:** 16 GB\n",
    "\n",
    "* **OS:** Ubuntu 22.04.4 LTS (64-bit)\n",
    "\n",
    "### Подготовка к измерениям\n",
    "\n",
    "**Средство измерения:** библиотека time в python3\n",
    "\n",
    "Перед проведением серии замеров, были проделаны следующие действия по подготовке ПК:\n",
    "\n",
    "* отключены все обновления на устройстве;\n",
    "* закрыты фоновые процессы;\n",
    "* была установлена максимальная частота процессора:\n",
    "```\n",
    "sudo cpupower frequency-set -g performance && sudo cpupower frequency-set -d 4.46GHz -u 4.46GHz\n",
    "```\n",
    "* выключен swap:\n",
    "```\n",
    "sudo swapoff -a\n",
    "```\n",
    "* сброшен дисковый кэш:\n",
    "```\n",
    "sudo sh -c 'echo 3 >/proc/sys/vm/drop_caches'\n",
    "```\n",
    "* программа исполнена одним ядром:\n",
    "```\n",
    "taskset -c 0 python3 measurescript.py\n",
    "```\n",
    "* совершён прогрев из 10 проходов.\n",
    "\n",
    "\n",
    "**Выборка** - 40 замеров"
   ]
  },
  {
   "cell_type": "code",
   "execution_count": 1,
   "id": "9f219d45",
   "metadata": {},
   "outputs": [],
   "source": [
    "t = [2.978137254714966, 2.9821996688842773, 2.9802401065826416, 2.9848153591156006, 2.9773077964782715, 2.97702956199646, 2.9790220260620117, 2.973201036453247, 2.9761404991149902, 2.9723007678985596, 2.9768781661987305, 2.978024482727051, 2.9770681858062744, 2.97615647315979, 2.9784553050994873, 2.9877724533081, 2.9774954319000244, 2.9830384254455566, 2.978109121322632, 2.9777112007141113, 2.977668523788452, 2.981020212173462, 2.9840073585510254, 2.9845879077911377, 2.9831786155700684, 2.9788289070129395, 2.978823184967041, 2.975001335144043, 2.977346181869507, 2.976118564605713, 2.9843766689300537, 2.983642578125, 2.9781949520111084, 2.9843640327453613, 2.9762635231018066, 2.983997344970703, 2.9724934101104736, 2.9744277000427246, 2.9837796688079834]"
   ]
  },
  {
   "cell_type": "markdown",
   "id": "39d98133",
   "metadata": {},
   "source": [
    "Имел место **одиночный выброс**, поэтому выборка составляет 39"
   ]
  },
  {
   "cell_type": "code",
   "execution_count": 2,
   "id": "5a78f189",
   "metadata": {},
   "outputs": [],
   "source": [
    "from scipy import stats\n",
    "import numpy as np\n",
    "import matplotlib.pyplot as plt\n",
    "import math"
   ]
  },
  {
   "cell_type": "code",
   "execution_count": 3,
   "id": "a2d85310",
   "metadata": {
    "scrolled": false
   },
   "outputs": [
    {
     "data": {
      "text/plain": [
       "(array([ 3.,  2.,  5., 12.,  3.,  2.,  2.,  8.,  1.,  1.]),\n",
       " array([2.97230077, 2.97384794, 2.9753951 , 2.97694227, 2.97848944,\n",
       "        2.98003661, 2.98158378, 2.98313095, 2.98467812, 2.98622528,\n",
       "        2.98777245]),\n",
       " <BarContainer object of 10 artists>)"
      ]
     },
     "execution_count": 3,
     "metadata": {},
     "output_type": "execute_result"
    },
    {
     "data": {
      "image/png": "[encoded data removed]",
      "text/plain": [
       "<Figure size 432x288 with 1 Axes>"
      ]
     },
     "metadata": {
      "needs_background": "light"
     },
     "output_type": "display_data"
    }
   ],
   "source": [
    "plt.hist(t)"
   ]
  },
  {
   "cell_type": "code",
   "execution_count": 4,
   "id": "1c9f5713",
   "metadata": {},
   "outputs": [
    {
     "data": {
      "text/plain": [
       "NormaltestResult(statistic=1.8117323339904154, pvalue=0.40419163598297525)"
      ]
     },
     "execution_count": 4,
     "metadata": {},
     "output_type": "execute_result"
    }
   ],
   "source": [
    "stats.normaltest(t)"
   ]
  },
  {
   "cell_type": "code",
   "execution_count": 5,
   "id": "f8d39102",
   "metadata": {},
   "outputs": [
    {
     "data": {
      "text/plain": [
       "ShapiroResult(statistic=0.9454030316221977, pvalue=0.057580535205669636)"
      ]
     },
     "execution_count": 5,
     "metadata": {},
     "output_type": "execute_result"
    }
   ],
   "source": [
    "stats.shapiro(t)"
   ]
  },
  {
   "cell_type": "markdown",
   "id": "a8723a42",
   "metadata": {},
   "source": [
    "В обоих тестах pvalue > 0.05"
   ]
  },
  {
   "cell_type": "markdown",
   "id": "069b611f",
   "metadata": {},
   "source": [
    "**Среднее:**"
   ]
  },
  {
   "cell_type": "code",
   "execution_count": 6,
   "id": "b8ddea9a",
   "metadata": {},
   "outputs": [
    {
     "data": {
      "text/plain": [
       "2.9792108716231125"
      ]
     },
     "execution_count": 6,
     "metadata": {},
     "output_type": "execute_result"
    }
   ],
   "source": [
    "np.mean(t)"
   ]
  },
  {
   "cell_type": "markdown",
   "id": "6cde9442",
   "metadata": {},
   "source": [
    "**Стандартное отклонение:**"
   ]
  },
  {
   "cell_type": "code",
   "execution_count": 7,
   "id": "8ed35e42",
   "metadata": {},
   "outputs": [
    {
     "data": {
      "text/plain": [
       "0.0038344670547130672"
      ]
     },
     "execution_count": 7,
     "metadata": {},
     "output_type": "execute_result"
    }
   ],
   "source": [
    "np.std(t, ddof=1)"
   ]
  },
  {
   "cell_type": "markdown",
   "id": "c9aa3ffd",
   "metadata": {},
   "source": [
    "**Стандартное отклонение среднего:**"
   ]
  },
  {
   "cell_type": "code",
   "execution_count": 8,
   "id": "558fde1f",
   "metadata": {},
   "outputs": [
    {
     "data": {
      "text/plain": [
       "0.0006140061302976335"
      ]
     },
     "execution_count": 8,
     "metadata": {},
     "output_type": "execute_result"
    }
   ],
   "source": [
    "np.std(t, ddof=1)/math.sqrt(len(t))"
   ]
  },
  {
   "cell_type": "markdown",
   "id": "e4554527",
   "metadata": {},
   "source": [
    "**Доверительный интервал 95%:**"
   ]
  },
  {
   "cell_type": "code",
   "execution_count": 9,
   "id": "f0a73934",
   "metadata": {},
   "outputs": [
    {
     "data": {
      "text/plain": [
       "0.0012429904267807013"
      ]
     },
     "execution_count": 9,
     "metadata": {},
     "output_type": "execute_result"
    }
   ],
   "source": [
    "stats.t.ppf(0.975, df = len(t) - 1)*stats.sem(t)"
   ]
  },
  {
   "cell_type": "markdown",
   "id": "505ea464",
   "metadata": {},
   "source": [
    "Итак, полученные данные с учётом округления:\n",
    "\n",
    "**2.9792 ± 0.0012**\n"
   ]
  }
 ],
 "metadata": {
  "kernelspec": {
   "display_name": "Python 3 (ipykernel)",
   "language": "python",
   "name": "python3"
  },
  "language_info": {
   "codemirror_mode": {
    "name": "ipython",
    "version": 3
   },
   "file_extension": ".py",
   "mimetype": "text/x-python",
   "name": "python",
   "nbconvert_exporter": "python",
   "pygments_lexer": "ipython3",
   "version": "3.10.12"
  }
 },
 "nbformat": 4,
 "nbformat_minor": 5
}

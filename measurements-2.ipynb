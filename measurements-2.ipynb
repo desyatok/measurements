{
 "cells": [
  {
   "cell_type": "markdown",
   "id": "dd6f2328",
   "metadata": {},
   "source": [
    "### Тестовый стенд\n",
    "* **CPU:** AMD® Ryzen 7 5800h with radeon graphics × 16 @ 4.46GHz\n",
    "\n",
    "* **RAM:** 16 GB\n",
    "\n",
    "* **OS:** Ubuntu 22.04.4 LTS (64-bit)\n",
    "\n",
    "### Подготовка к измерениям\n",
    "\n",
    "**Средство измерения:** библиотека time в python3\n",
    "\n",
    "Перед проведением серии замеров, были проделаны следующие действия по подготовке ПК:\n",
    "\n",
    "* отключены все обновления на устройстве;\n",
    "* закрыты фоновые процессы;\n",
    "* была установлена максимальная частота процессора:\n",
    "```\n",
    "sudo cpupower frequency-set -g performance && sudo cpupower frequency-set -d 4.46GHz -u 4.46GHz\n",
    "```\n",
    "* выключен swap:\n",
    "```\n",
    "sudo swapoff -a\n",
    "```\n",
    "* сброшен дисковый кэш:\n",
    "```\n",
    "sudo sh -c 'echo 3 >/proc/sys/vm/drop_caches'\n",
    "```\n",
    "* программа исполнена одним ядром:\n",
    "```\n",
    "taskset -c 0 python3 measurescript.py\n",
    "```\n",
    "* совершён прогрев из 10 проходов.\n",
    "\n",
    "\n",
    "**Выборка** - 40 замеров"
   ]
  },
  {
   "cell_type": "code",
   "execution_count": 1,
   "id": "9f219d45",
   "metadata": {},
   "outputs": [],
   "source": [
    "t = [2.978800287246704, 2.977645378112793, 2.9808559322357178, 2.983973970413208, 2.9830551052093506, 2.985217519760132, 2.9827992820739746, 2.9737138748168945, 2.9702684688568115, 2.970532646179199, 2.9767868518829346, 2.977541923522949, 2.975900888442993, 2.977146863937378, 2.975010395050049, 2.979825973510742, 2.981210470199585, 2.9768590927124023, 2.974181890487671, 2.9777612686157227, 2.9747142791748047, 2.978062868118286, 2.9788432121276855, 2.972687005996704, 2.9769341945648193, 2.977008104324341, 2.975972890853882, 2.9773285388946533, 2.9741439819335938, 2.9753193855285645, 2.981655321121216, 2.9747800827026367, 2.981269121170044, 2.9792537689208984, 2.9777793884277344, 2.9808237552642822, 2.976321220397949, 2.980615119934082, 2.980350971221924, 2.977914810180664]"
   ]
  },
  {
   "cell_type": "code",
   "execution_count": 2,
   "id": "5a78f189",
   "metadata": {},
   "outputs": [],
   "source": [
    "from scipy import stats\n",
    "import numpy as np\n",
    "import matplotlib.pyplot as plt\n",
    "import math"
   ]
  },
  {
   "cell_type": "code",
   "execution_count": 3,
   "id": "a2d85310",
   "metadata": {
    "scrolled": false
   },
   "outputs": [
    {
     "data": {
      "text/plain": [
       "(array([2., 1., 4., 5., 9., 6., 4., 5., 2., 2.]),\n",
       " array([2.97026847, 2.97176337, 2.97325828, 2.97475318, 2.97624809,\n",
       "        2.97774299, 2.9792379 , 2.9807328 , 2.98222771, 2.98372261,\n",
       "        2.98521752]),\n",
       " <BarContainer object of 10 artists>)"
      ]
     },
     "execution_count": 3,
     "metadata": {},
     "output_type": "execute_result"
    },
    {
     "data": {
      "image/png": "[encoded data removed]",
      "text/plain": [
       "<Figure size 432x288 with 1 Axes>"
      ]
     },
     "metadata": {
      "needs_background": "light"
     },
     "output_type": "display_data"
    }
   ],
   "source": [
    "plt.hist(t)"
   ]
  },
  {
   "cell_type": "code",
   "execution_count": 4,
   "id": "1c9f5713",
   "metadata": {},
   "outputs": [
    {
     "data": {
      "text/plain": [
       "NormaltestResult(statistic=0.030868697708592328, pvalue=0.984684150272371)"
      ]
     },
     "execution_count": 4,
     "metadata": {},
     "output_type": "execute_result"
    }
   ],
   "source": [
    "stats.normaltest(t)"
   ]
  },
  {
   "cell_type": "code",
   "execution_count": 5,
   "id": "f8d39102",
   "metadata": {},
   "outputs": [
    {
     "data": {
      "text/plain": [
       "ShapiroResult(statistic=0.9878119471056335, pvalue=0.9378363750725837)"
      ]
     },
     "execution_count": 5,
     "metadata": {},
     "output_type": "execute_result"
    }
   ],
   "source": [
    "stats.shapiro(t)"
   ]
  },
  {
   "cell_type": "markdown",
   "id": "a8723a42",
   "metadata": {},
   "source": [
    "В обоих тестах pvalue > 0.05"
   ]
  },
  {
   "cell_type": "markdown",
   "id": "069b611f",
   "metadata": {},
   "source": [
    "**Среднее:**"
   ]
  },
  {
   "cell_type": "code",
   "execution_count": 6,
   "id": "b8ddea9a",
   "metadata": {},
   "outputs": [
    {
     "data": {
      "text/plain": [
       "2.9777716526031495"
      ]
     },
     "execution_count": 6,
     "metadata": {},
     "output_type": "execute_result"
    }
   ],
   "source": [
    "np.mean(t)"
   ]
  },
  {
   "cell_type": "markdown",
   "id": "6cde9442",
   "metadata": {},
   "source": [
    "**Стандартное отклонение:**"
   ]
  },
  {
   "cell_type": "code",
   "execution_count": 7,
   "id": "8ed35e42",
   "metadata": {},
   "outputs": [
    {
     "data": {
      "text/plain": [
       "0.003397285553107677"
      ]
     },
     "execution_count": 7,
     "metadata": {},
     "output_type": "execute_result"
    }
   ],
   "source": [
    "np.std(t, ddof=1)"
   ]
  },
  {
   "cell_type": "markdown",
   "id": "c9aa3ffd",
   "metadata": {},
   "source": [
    "**Стандартное отклонение среднего:**"
   ]
  },
  {
   "cell_type": "code",
   "execution_count": 8,
   "id": "558fde1f",
   "metadata": {},
   "outputs": [
    {
     "data": {
      "text/plain": [
       "0.0005371580104902592"
      ]
     },
     "execution_count": 8,
     "metadata": {},
     "output_type": "execute_result"
    }
   ],
   "source": [
    "np.std(t, ddof=1)/math.sqrt(len(t))"
   ]
  },
  {
   "cell_type": "markdown",
   "id": "e4554527",
   "metadata": {},
   "source": [
    "**Доверительный интервал 95%:**"
   ]
  },
  {
   "cell_type": "code",
   "execution_count": 9,
   "id": "f0a73934",
   "metadata": {},
   "outputs": [
    {
     "data": {
      "text/plain": [
       "0.0010865046304436583"
      ]
     },
     "execution_count": 9,
     "metadata": {},
     "output_type": "execute_result"
    }
   ],
   "source": [
    "stats.t.ppf(0.975, df = len(t) - 1)*stats.sem(t)"
   ]
  },
  {
   "cell_type": "markdown",
   "id": "505ea464",
   "metadata": {},
   "source": [
    "Итак, полученные данные с учётом округления:\n",
    "\n",
    "**2.9778 ± 0.0011**\n",
    "\n"
   ]
  }
 ],
 "metadata": {
  "kernelspec": {
   "display_name": "Python 3 (ipykernel)",
   "language": "python",
   "name": "python3"
  },
  "language_info": {
   "codemirror_mode": {
    "name": "ipython",
    "version": 3
   },
   "file_extension": ".py",
   "mimetype": "text/x-python",
   "name": "python",
   "nbconvert_exporter": "python",
   "pygments_lexer": "ipython3",
   "version": "3.10.12"
  }
 },
 "nbformat": 4,
 "nbformat_minor": 5
}
